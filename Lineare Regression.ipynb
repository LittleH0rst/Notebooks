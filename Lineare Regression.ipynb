{
 "cells": [
  {
   "cell_type": "markdown",
   "metadata": {},
   "source": [
    "## Was ist eigentlich lineare Regression?"
   ]
  },
  {
   "cell_type": "markdown",
   "metadata": {},
   "source": [
    "Ein Beispiel zu Beginn:\n",
    "\n",
    "Wir haben eine Menge zwei-dimensionaler Datenpunkte gegeben. Wir wollen einen (lineare) Funktion f finden, die - über alle denkbaren linearen Funktionen - ein bestimmtes Fehlermaß minimiert.\n",
    "\n",
    "Gegeben sind folgende Daten:\n",
    "\n",
    "| Kind $i$               | 1   | 2   | 3   | 4   | 5   | 6   | 7   | 8   | 9   |\n",
    "| ---------------------- |-----|-----|-----|-----|-----|-----|-----|-----|-----|\n",
    "| Fernsehzeit $x_i$      | 0.3 | 2.2 | 0.5 | 0.7 | 1.0 | 1.8 | 3.0 | 0.2 | 2.3 |\n",
    "| Dauer Tiefschlaf $y_i$ | 5.8 | 4.4 | 6.5 | 5.8 | 5.6 | 5.0 | 4.8 | 6.0 | 6.1 |\n",
    "\n",
    "Wir haben zu jedem Kind also zwei Merkmale erhoben, nämlich die tägliche durchschnittliche Fernsehzeit und die durchschnittliche Dauer des Tiefschlafs. Über wieviele Tage hinweg dies erhoben wurde, wissen wir nicht.\n",
    "\n",
    "Das Merkmal Fernsehzeit werden wir mit x bezeichnen, das Merkmal Tiefschlaf mit y.   "
   ]
  },
  {
   "cell_type": "code",
   "execution_count": 11,
   "metadata": {},
   "outputs": [
    {
     "name": "stdout",
     "output_type": "stream",
     "text": [
      "[ 0.3  2.2  0.5  0.7  1.   1.8  3.   0.2  2.3] [ 5.8  4.4  6.5  5.8  5.6  5.   4.8  6.   6.1]\n"
     ]
    },
    {
     "data": {
      "image/png": "[encoded data removed]",
      "text/plain": [
       "<matplotlib.figure.Figure at 0x26646b06400>"
      ]
     },
     "metadata": {},
     "output_type": "display_data"
    }
   ],
   "source": [
    "import numpy as np\n",
    "import matplotlib.pyplot as plt\n",
    "\n",
    "data = np.array([ [0.3, 5.8], [2.2, 4.4], [0.5, 6.5], [0.7, 5.8],\n",
    "    [1.0, 5.6], [1.8, 5.0], [3.0, 4.8], [0.2, 6.0], [2.3, 6.1]])\n",
    "\n",
    "x = data[:,0] # Get value in all tuples at position 0 (=Fernsehzeit)\n",
    "y = data[:,1] # Get value in all tuples at position 1 (=Dauer Tiefschlaf)\n",
    "\n",
    "plt.scatter(x,y) # I will never understand the idea behind being forced to unzip the data ...\n",
    "plt.show()"
   ]
  },
  {
   "cell_type": "markdown",
   "metadata": {},
   "source": [
    "Zu beiden Datenreihen kann man den Mittelwert bestimmen:"
   ]
  },
  {
   "cell_type": "code",
   "execution_count": 18,
   "metadata": {},
   "outputs": [
    {
     "name": "stdout",
     "output_type": "stream",
     "text": [
      "x:  [ 0.3  2.2  0.5  0.7  1.   1.8  3.   0.2  2.3]  Average:  1.33333333333\n",
      "y:  [ 5.8  4.4  6.5  5.8  5.6  5.   4.8  6.   6.1]  Average:  5.55555555556\n",
      "\n",
      "Mean x:  1.33333333333 , Mean y:  5.55555555556\n"
     ]
    }
   ],
   "source": [
    "n = len(x) # or len(y), both have the same length\n",
    "\n",
    "x_avg = sum(x) / n\n",
    "y_avg = sum(y) / n\n",
    "\n",
    "print(\"x: \",x,\" Average: \",x_avg)\n",
    "print(\"y: \",y,\" Average: \",y_avg)\n",
    "\n",
    "# we could as well use the function \"mean\" from np directly:\n",
    "print(\"\\nMean x: \",np.mean(x),\", Mean y: \",np.mean(y))"
   ]
  },
  {
   "cell_type": "markdown",
   "metadata": {},
   "source": [
    "Beide Datenreihen weichen von ihren Mittelwerten ab. Im Grunde wollen wir nun mittels einen \n",
    "linearen Zusammenhangs erklären, welche Abweichung wir für ein Merkmal zu erwarten haben, wenn wir\n",
    "das andere Merkmal abweichen lassen. Wir werden uns fragen, was wir für einen y-Wert zu erwarten haben, \n",
    "wenn wir einen x-Wert vorgeben. Wir könnten aber auch von y ausgehen und x \"vorhersagen\" wollen.\n",
    "\n",
    "Wenn man von den Mittelwerten aus denkt, dann kann man sich folgendes fragen: wenn ein $x_i$ um eine gewisse Differenz vom Mittelwert abweicht, wieviel Abweichung sollten wir dann für $y_i$ erwarten?\n",
    "\n",
    "Bestimmen wir einmal die Abweichungen und zeichnen diese:"
   ]
  },
  {
   "cell_type": "code",
   "execution_count": 22,
   "metadata": {},
   "outputs": [
    {
     "name": "stdout",
     "output_type": "stream",
     "text": [
      "[-1.03333333  0.86666667 -0.83333333 -0.63333333 -0.33333333  0.46666667\n",
      "  1.66666667 -1.13333333  0.96666667]\n",
      "[ 0.24444444 -1.15555556  0.94444444  0.24444444  0.04444444 -0.55555556\n",
      " -0.75555556  0.44444444  0.54444444]\n"
     ]
    },
    {
     "data": {
      "image/png": "[encoded data removed]",
      "text/plain": [
       "<matplotlib.figure.Figure at 0x26646b9c630>"
      ]
     },
     "metadata": {},
     "output_type": "display_data"
    }
   ],
   "source": [
    "x_diff = np.add(x,-x_avg)\n",
    "print(x_diff)\n",
    "y_diff = np.add(y,-y_avg)\n",
    "print(y_diff)\n",
    "\n",
    "plt.scatter(x_diff,y_diff)\n",
    "plt.show()"
   ]
  },
  {
   "cell_type": "markdown",
   "metadata": {},
   "source": [
    "Der Plot sieht noch genau so aus, wie oben, wir haben nur die x und y-Werte so verschoben, dass sie jetzt um den Nullpunkt $(0,0)$ streuen. Diesen Daten haben jetzt einen veränderten Average: es ist für beide Dimensionen (fast genau) $0$:"
   ]
  },
  {
   "cell_type": "code",
   "execution_count": 23,
   "metadata": {},
   "outputs": [
    {
     "name": "stdout",
     "output_type": "stream",
     "text": [
      "\n",
      "Mean x_diff:  7.40148683083e-17 , Mean y_diff:  9.86864910778e-17\n"
     ]
    }
   ],
   "source": [
    "print(\"\\nMean x_diff: \",np.mean(x_diff),\", Mean y_diff: \",np.mean(y_diff))"
   ]
  },
  {
   "cell_type": "markdown",
   "metadata": {},
   "source": [
    "Fragen wir uns nun einmal, in welchem Verhältnis die Abweichungen zu einander stehen:"
   ]
  },
  {
   "cell_type": "code",
   "execution_count": 32,
   "metadata": {},
   "outputs": [
    {
     "data": {
      "image/png": "[encoded data removed]",
      "text/plain": [
       "<matplotlib.figure.Figure at 0x26646c11c88>"
      ]
     },
     "metadata": {},
     "output_type": "display_data"
    },
    {
     "name": "stdout",
     "output_type": "stream",
     "text": [
      "Mean ratio:  -2.19676743425\n"
     ]
    }
   ],
   "source": [
    "ratios = [a/b for a,b in zip(x_diff,y_diff)]\n",
    "\n",
    "# Show the result\n",
    "index = range(1,n+1)\n",
    "plt.scatter(index,ratios)\n",
    "plt.show()\n",
    "\n",
    "mean_ratio = np.mean(ratios)\n",
    "print(\"Mean ratio: \", mean_ratio)"
   ]
  },
  {
   "cell_type": "code",
   "execution_count": 40,
   "metadata": {},
   "outputs": [
    {
     "data": {
      "image/png": "[encoded data removed]",
      "text/plain": [
       "<matplotlib.figure.Figure at 0x2664637b198>"
      ]
     },
     "metadata": {},
     "output_type": "display_data"
    }
   ],
   "source": [
    "# Now, we define a simple linear function which captures the \"average\" relation between x and y\n",
    "\n",
    "def lin_func(x):\n",
    "    return x * mean_ratio\n",
    "\n",
    "# Let's plot it between -1.5 and 2\n",
    "f_x = np.linspace(-1.5,2,100)\n",
    "f_y = np.vectorize(lin_func)(f_x)\n",
    "\n",
    "# print(f_x,f_y)\n",
    "\n",
    "plt.plot(f_x,f_y)\n",
    "plt.show()"
   ]
  },
  {
   "cell_type": "code",
   "execution_count": 41,
   "metadata": {},
   "outputs": [
    {
     "data": {
      "image/png": "[encoded data removed]",
      "text/plain": [
       "<matplotlib.figure.Figure at 0x266472368d0>"
      ]
     },
     "metadata": {},
     "output_type": "display_data"
    }
   ],
   "source": [
    "# Let's see how this relates to our \"corrected\" input data\n",
    "plt.plot(f_x,f_y)\n",
    "plt.scatter(x_diff,y_diff)\n",
    "plt.show()"
   ]
  },
  {
   "cell_type": "code",
   "execution_count": 142,
   "metadata": {},
   "outputs": [
    {
     "data": {
      "image/png": "[encoded data removed]",
      "text/plain": [
       "<matplotlib.figure.Figure at 0x2664678e5f8>"
      ]
     },
     "metadata": {},
     "output_type": "display_data"
    }
   ],
   "source": [
    "# With error bars\n",
    "plt.plot(f_x,f_y)\n",
    "plt.scatter(x_diff,y_diff)\n",
    "\n",
    "for x_v,y_v in zip(x_diff,y_diff):\n",
    "    plt.plot((x_v,x_v),(lin_func(x_v),y_v), 'k-')\n",
    "\n",
    "plt.show()"
   ]
  },
  {
   "cell_type": "markdown",
   "metadata": {},
   "source": [
    "Der mean_ratio, den wir oben bestimmen, gibt an, um wieviel y relativ zu x \"im Mittel\" variert, wenn x sich verändert. Ändert sich x beispielsweise um 1, dann ändert sich y ungefähr um -2.19. Ein steigendes x führt also zu fallendem y, mehr Fernsehzeit führt also zu (deutlich) reduzierter Tiefschlafzeit (denn die Einheit ist an sich identisch, eine Stunde mehr Fernsehen führt \"im Mittel\" zu mehr als 2 Stunden WENIGER Tiefschlaf. Aua.\n",
    "\n",
    "Was bedeutet unsere Formulierung \"im Mittel\" oben eigentlich? Wir haben einfach jede Ration ausgerechnet, diese aufaddiert und  durch n=9 geteilt. Macht das wirklich Sinn? Schaut man sich den Graphen oben an, in dem die Ratios eingezeichnet sind, dann sieht man, dass es einen ziemlich großen \"Ausreisser\" gibt (mit einem Wert nahe an -8), der den Mittelwert stark beeinflusst. Fragen wir uns einmal, ob es einen \"bessere\" lineare Funktion geben könnte, um die Beziehung zwischen x und y zu \"linearisieren\".\n",
    "\n",
    "Um das Wort \"besser\" in den Griff zu bekommen, müssen wir uns zunächst fragen, wie wir den Fehler messen wollen, den unsere lineare Funktion macht.\n",
    "\n",
    "Erste Idee: wir nehmen die tatsächliche Abweichung der Vorhersage vom beobachteten Wert, wir rechnen:\n",
    "\n",
    "${\\hat y\\_{diff}_{i}} = lin\\_func(x\\_{diff}_{i})$\n",
    "\n",
    "Es gibt aber meist eine Differenz zwischen dem Vorhersagewert ${\\hat y\\_{diff}_{i}}$ und dem \"wahren\" Wert $y\\_{diff}_{i}$. Diese Differenz bezeichnen wir als Fehler $\\epsilon_{i}$.\n",
    "\n",
    "Insgesamt ergibt sich eine Fehlersumme von\n",
    "\n",
    "${Error} = \\sum ({y\\_diff}_{i} - {\\hat y\\_{diff}_{i}}) = \\sum (y\\_{diff}_{i} - lin\\_func(x\\_{diff}_{i})) = \\sum \\epsilon_{i}$\n",
    "\n",
    "Welcher Fehler ergibt sich nun für unsere gefundene lineare Funktion?\n"
   ]
  },
  {
   "cell_type": "code",
   "execution_count": 42,
   "metadata": {},
   "outputs": [
    {
     "name": "stdout",
     "output_type": "stream",
     "text": [
      "[-2.0255485709435308, 0.74830955412468314, -0.88619508409424519, -1.1468415972449599, -0.68781136697103162, 0.46960258042611125, 2.9057235015218246, -2.0452253143681736, 2.6679862975493247]\n"
     ]
    }
   ],
   "source": [
    "e_y = [(b - lin_func(a)) for a,b in zip(x_diff,y_diff)]\n",
    "\n",
    "print(e_y)"
   ]
  },
  {
   "cell_type": "markdown",
   "metadata": {},
   "source": [
    "Jetzt entsteht ein Problem: wenn wir nun einfach die positive und negativen Abweichungen aufaddieren, heben diese sich gegenseitig auf. Im Extremfall könnten wir dann eine sehr verwackelelte, sich aber sehr gut ausgleichende Vorhersage nicht von einer perfekten Vorhersage unterscheiden, beide hätten möglicherweise einen kummulierten Fehler von 0 (man könnte damit immer noch leben, wenn man zusäztlich die Varianz des Fehlers erheben würde, aber wir wollen erstmal nur eine Zahl haben, die uns erlaubt, den Fehler halbwegs ordentlich \"auf einen Blick\" einzuschätzen.\n",
    "\n",
    "Gehen wir also zur zweiten Idee über, die Summe der Beträge der Fehler, also der absolute Fehler:\n",
    "\n",
    "${Error} = \\sum |{y\\_diff}_{i} - {\\hat y\\_{diff}_{i}}| = \\sum |y\\_{diff}_{i} - lin\\_func(x\\_{diff}_{i})| = \\sum |\\epsilon_{i}|$\n"
   ]
  },
  {
   "cell_type": "code",
   "execution_count": 48,
   "metadata": {},
   "outputs": [
    {
     "name": "stdout",
     "output_type": "stream",
     "text": [
      "[2.025548570943531, 0.7483095541246831, 0.8861950840942452, 1.14684159724496, 0.6878113669710316, 0.46960258042611125, 2.9057235015218246, 2.0452253143681736, 2.6679862975493247]\n",
      "\n",
      "Absolute Error:  13.583243867243885 , Average absolute error:  1.5092493185826539\n"
     ]
    }
   ],
   "source": [
    "import math\n",
    "\n",
    "e_abs = [math.fabs(e) for e in e_y]\n",
    "print(e_abs)\n",
    "\n",
    "absolute_error = sum(e_abs)\n",
    "absolute_error_avg = absolute_error / n\n",
    "print(\"\\nAbsolute Error: \",absolute_error,\", Average absolute error: \",absolute_error_avg)"
   ]
  },
  {
   "cell_type": "markdown",
   "metadata": {},
   "source": [
    "Welche lineare Funktion optimiert diesen Fehler? Finden wir es heraus!"
   ]
  },
  {
   "cell_type": "code",
   "execution_count": 70,
   "metadata": {},
   "outputs": [
    {
     "name": "stdout",
     "output_type": "stream",
     "text": [
      "13.583243867243885\n",
      "21.51657720057722\n",
      "5.886624758994519\n"
     ]
    }
   ],
   "source": [
    "def lin_func_m(x,gradient=mean_ratio):\n",
    "    return x * gradient\n",
    "\n",
    "def abs_error(x,y,func):\n",
    "    err = [math.fabs(b - func(a)) for a,b in zip(x,y)]\n",
    "    return sum(err)\n",
    "\n",
    "from functools import partial\n",
    "\n",
    "# our mean_ratio\n",
    "ef_1 = partial(lin_func_m,gradient=mean_ratio) # Error function 1\n",
    "print(abs_error(x_diff,y_diff,ef_1))\n",
    "\n",
    "# ... one less\n",
    "ef_2 = partial(lin_func_m,gradient=mean_ratio-1) # Error function 2\n",
    "print(abs_error(x_diff,y_diff,ef_2))\n",
    "\n",
    "# ... one more (which is BETTER!)\n",
    "ef_3 = partial(lin_func_m,gradient=mean_ratio+1) # Error function 3\n",
    "print(abs_error(x_diff,y_diff,ef_3))"
   ]
  },
  {
   "cell_type": "code",
   "execution_count": 132,
   "metadata": {},
   "outputs": [
    {
     "data": {
      "image/png": "[encoded data removed]",
      "text/plain": [
       "<matplotlib.figure.Figure at 0x266471890f0>"
      ]
     },
     "metadata": {},
     "output_type": "display_data"
    }
   ],
   "source": [
    "# Let's try this systematically\n",
    "gradients = np.linspace(mean_ratio-1,mean_ratio+3,1000)\n",
    "abs_errors = np.array([abs_error(x_diff,y_diff,partial(lin_func_m,gradient=g)) for g in gradients])\n",
    "\n",
    "plt.plot(gradients,abs_errors)\n",
    "plt.show()"
   ]
  },
  {
   "cell_type": "code",
   "execution_count": 136,
   "metadata": {},
   "outputs": [
    {
     "data": {
      "image/png": "[encoded data removed]",
      "text/plain": [
       "<matplotlib.figure.Figure at 0x266471a3c18>"
      ]
     },
     "metadata": {},
     "output_type": "display_data"
    }
   ],
   "source": [
    "# Let's look near the optimum:\n",
    "gradients = np.linspace(mean_ratio+1.5,mean_ratio+2.0,1000)\n",
    "abs_errors = np.array([abs_error(x_diff,y_diff,partial(lin_func_m,gradient=g)) for g in gradients])\n",
    "\n",
    "plt.plot(gradients,abs_errors)\n",
    "plt.show()\n"
   ]
  },
  {
   "cell_type": "markdown",
   "metadata": {},
   "source": [
    "Wir können das mit einem \"Gradient Descent\" genannten, iterativen Verfahren probieren. Die Idee ist einfach: was wir im Bild sehen, ist die Fehlerfunktion zu unserem absoluten Fehler, die vom vorgegebenen Gradienten, also der Steigung unser Geraden, die wir in den $(x_{diff},y_{diff})$-Raum legen, abhängt. Wir suchen in dieser Fehlerfunktion nach einem Minimum. Eine elementare Idee ist es, \"irgendwo\" zu beginnen und sich dann in Richtung des gesuchten Extremums zu bewegen. Das nennt man \"hill climbing\" (man sucht oft nach Maxima!), in unserem Fall hieße es besser \"hill sliding\" (wir suchen ja nach einem Minimum). Um sich in die richtige Richtung zu bewegen, muss man wissen, wie sich die Kurve am betrachteten Punkt verhält: wo geht es nach oben, wo nach unten? Das kann einem die Steigung der Kurve in diesem Punkt sagen. Man könnte nun analytisch differenzieren (werden wir noch tun werden), oder auch einfach in einer kleinen Umgebung um den Punkt die Steigung \"erperimentell\" bestimmen. Eigentlich brauchen wir sowieso gar nicht die Steigung, sondern müssen nur wissen, wo es kleiner und wo größer wird (falls es das wird...- sonst wird es ein wenig schwieriger).\n",
    "\n",
    "Man kann das noch mit diversen mehr oder minder cleveren Ideen verbinden, z.B. weitere Testsprünge zulassen, binäre Suche integrieren etc. Wir machen es einfach \"straightforward\" in unserer ersten Lösung: wir variieren um eine fixe Schrittweite, und zwar solange, bis wir keine Verbesserung mehr finden:\n"
   ]
  },
  {
   "cell_type": "code",
   "execution_count": 106,
   "metadata": {},
   "outputs": [
    {
     "name": "stdout",
     "output_type": "stream",
     "text": [
      "While-Loops:  1  - Error value:  3.7950181284634947\n",
      "Best gradient found with step size 1:  -0.196767434246\n",
      "While-Loops:  17  - Error value:  3.0835824269101573\n",
      "Best gradient found with step size 0.1:  -0.396767434246\n",
      "While-Loops:  179  - Error value:  3.0835824269101577\n",
      "Best gradient found with step size 0.01:  -0.396767434246\n",
      "While-Loops:  1803  - Error value:  3.0825157602435254\n",
      "Best gradient found with step size 0.001:  -0.392767434247\n",
      "While-Loops:  18045  - Error value:  3.082355760243427\n",
      "Best gradient found with step size 0.0001:  -0.392167434246\n",
      "While-Loops:  180460  - Error value:  3.0823530935753114\n",
      "Best gradient found with step size 0.00001:  -0.392157434241\n"
     ]
    }
   ],
   "source": [
    "def grad_descent(initial_value=0,step=0.1,bound=5):\n",
    "    initial_v = abs_error(x_diff,y_diff,partial(lin_func_m,initial_value))\n",
    "    left_v    = abs_error(x_diff,y_diff,partial(lin_func_m,initial_value - step))\n",
    "    right_v   = abs_error(x_diff,y_diff,partial(lin_func_m,initial_value + step))\n",
    "    #print(left_v,initial_v,right_v)\n",
    "    \n",
    "    computed_while = 0\n",
    "    \n",
    "    # find the correct direction to start with    \n",
    "    if left_v < initial_v:\n",
    "        # go to the left side! (if both are better, \n",
    "        # still go only to the left! One could split here)\n",
    "        step = -step\n",
    "        last_v = left_v  \n",
    "    elif right_v >= initial_v: \n",
    "        # no improvement! Best argument value has been found (given the step size that we tried)\n",
    "        return initial_value\n",
    "    else:\n",
    "        # go to the right side\n",
    "        last_v = right_v\n",
    "\n",
    "    next_v = initial_value + step # we did one step already\n",
    "    while True:\n",
    "        next_v = next_v + step # take the next step                          \n",
    "        test_v = abs_error(x_diff,y_diff,partial(lin_func_m,next_v))\n",
    "        # print(next_v,\":\",test_v)\n",
    "        # is it an improvement?\n",
    "        if test_v < last_v:\n",
    "            # Guard against running out-og-bounds\n",
    "            if math.fabs((next_v + step) - initial_value) > bound:\n",
    "                print(\"WARNING: we stopped iterating on the boundary! Might not be a true minimum!\")\n",
    "                print(\"While-Loops: \",computed_while)\n",
    "                return next_v\n",
    "            last_v = test_v # ok, one more step should be tried! Remember what we found!\n",
    "        else:\n",
    "            print(\"While-Loops: \",computed_while,\" - Error value: \", last_v)\n",
    "            return next_v - step # one step before the last step was better\n",
    "        computed_while += 1 # counting the while loops\n",
    "                           \n",
    "print(\"Best gradient found with step size 1: \",grad_descent(initial_value=mean_ratio, step=1))\n",
    "print(\"Best gradient found with step size 0.1: \",grad_descent(initial_value=mean_ratio, step=0.1))\n",
    "print(\"Best gradient found with step size 0.01: \",grad_descent(initial_value=mean_ratio, step=0.01))\n",
    "print(\"Best gradient found with step size 0.001: \",grad_descent(initial_value=mean_ratio, step=0.001))\n",
    "print(\"Best gradient found with step size 0.0001: \",grad_descent(initial_value=mean_ratio, step=0.0001))\n",
    "print(\"Best gradient found with step size 0.00001: \",grad_descent(initial_value=mean_ratio, step=0.00001))"
   ]
  },
  {
   "cell_type": "markdown",
   "metadata": {},
   "source": [
    "Wir könnten die Funktion oben leicht generalisieren, in dem wir eine zu testende Error-Function als Parameter mit übergeben würden (und die zugehörigen Daten). Das machen wir später noch. Die sehr kleinen Schrittweiten werden schon ziemlich teuer, das könnten wir natürlich verbessern mit einer großen Schrittweite, die dann kleiner wird und die Richtung umschaltet, wenn es zu einer Verschlechterung kommt:"
   ]
  },
  {
   "cell_type": "code",
   "execution_count": 137,
   "metadata": {},
   "outputs": [
    {
     "name": "stdout",
     "output_type": "stream",
     "text": [
      "Changed step size and direction:  -0.1 ( 1 )\n",
      "Changed step size and direction:  0.01 ( 14 )\n",
      "Changed step size and direction:  -0.001 ( 25 )\n",
      "Changed step size and direction:  0.0001 ( 32 )\n",
      "Changed step size and direction:  -1e-05 ( 49 )\n",
      "Changed step size and direction:  1.0000000000000002e-06 ( 59 )\n",
      "Changed step size and direction:  -1.0000000000000002e-07 ( 70 )\n",
      "Changed step size and direction:  1.0000000000000002e-08 ( 76 )\n",
      "While-Loops:  76  - Error value:  3.082352960243491\n",
      "Best gradient found:  -0.392156934246\n"
     ]
    }
   ],
   "source": [
    "def grad_descent(initial_value=0,min_step=0.00001,max_step=1,bound=5):\n",
    "    step = max_step\n",
    "    \n",
    "    initial_v = abs_error(x_diff,y_diff,partial(lin_func_m,initial_value))\n",
    "    left_v    = abs_error(x_diff,y_diff,partial(lin_func_m,initial_value - step))\n",
    "    right_v   = abs_error(x_diff,y_diff,partial(lin_func_m,initial_value + step))\n",
    "    #print(left_v,initial_v,right_v)\n",
    "    \n",
    "    computed_while = 0\n",
    "    \n",
    "    # find the correct direction to start with    \n",
    "    if left_v < initial_v:\n",
    "        # go to the left side! (if both are better, \n",
    "        # still go only to the left! One could split here)\n",
    "        step = -step\n",
    "    elif right_v >= initial_v: \n",
    "        # no improvement! Best argument value has been found (given the step size that we tried)\n",
    "        return initial_value\n",
    "    \n",
    "    last_v = abs_error(x_diff,y_diff,partial(lin_func_m,initial_value + step))\n",
    "    next_v = initial_value + step # we did one step already\n",
    "    \n",
    "    \n",
    "    while True:\n",
    "        last_grad = next_v\n",
    "        next_v = next_v + step # take the next step                          \n",
    "        test_v = abs_error(x_diff,y_diff,partial(lin_func_m,next_v))\n",
    "        # print(next_v,\":\",test_v) # comment in to see the development of values\n",
    "        # is it an improvement?\n",
    "        if test_v < last_v:\n",
    "            # Guard against running out-og-bounds\n",
    "            if math.fabs((next_v + step) - initial_value) > bound:\n",
    "                print(\"WARNING: we stopped iterating on the boundary! Might not be a true minimum!\")\n",
    "                print(\"While-Loops: \",computed_while)\n",
    "                return next_v\n",
    "            last_v = test_v # ok, one more step should be tried! Remember what we found!\n",
    "        else:\n",
    "            # reduce stepsize, change direction\n",
    "            step = -(step/10)            \n",
    "            print(\"Changed step size and direction: \",step,\"(\",computed_while,\")\")\n",
    "            if math.fabs(step) < min_step:\n",
    "                print(\"While-Loops: \",computed_while,\" - Error value: \", last_v)\n",
    "                return last_grad # one step before the last step was better\n",
    "            # Accept something worse...\n",
    "            last_v = test_v # ok, one more step should be tried! Remember what we found!\n",
    "        computed_while += 1 # counting the while loops\n",
    "                           \n",
    "\n",
    "print(\"Best gradient found: \",grad_descent(initial_value=mean_ratio, min_step=0.0000001))"
   ]
  },
  {
   "cell_type": "markdown",
   "metadata": {
    "collapsed": true
   },
   "source": [
    "Mit dem grad_descent, der die Richtung und die Schrittweite wechselt, finden wir nach 76 Loops die folgende Lösung:\n",
    "\n",
    "(Minimal) Error value: 3.082352960243491\n",
    "Best gradient found:  -0.392156934246\n",
    "    \n",
    "Hierbei sind wir bis zu einer Schrittweite von 0.0000001 herunter gegangen. Gehen wir nur bis 0.00001 oder 0.000001 herunter, finden wir eine etwas schlechtere Lösung, als der andere Algo, das liegt aber eher an Rechenungenauiogkeiten, als an etwas anderem. Für den anderen Algo würde es im übrigen sehr, sehr teuer, auf die noch kleinere Schrittweite umzustellen.\n",
    "\n",
    "Der erste Algo oben liefert nach 180460 das folgende, leicht schlechtere, Ergebnis:\n",
    "\n",
    "While-Loops:  180460, Error value:  3.0823530935753114\n",
    "Best gradient found with step size 0.00001:  -0.392157434241\n",
    "                                             \n"
   ]
  },
  {
   "cell_type": "code",
   "execution_count": 146,
   "metadata": {},
   "outputs": [
    {
     "data": {
      "image/png": "[encoded data removed]",
      "text/plain": [
       "<matplotlib.figure.Figure at 0x266471d35c0>"
      ]
     },
     "metadata": {},
     "output_type": "display_data"
    }
   ],
   "source": [
    "# \"Optimal\" gradient found so far\n",
    "# Now, we define a simple linear function which captures the \"average\" relation between x and y\n",
    "\n",
    "line = partial(lin_func_m,-0.392156934246)\n",
    "\n",
    "# Let's plot it between -1.5 and 2\n",
    "f_x = np.linspace(-1.5,2,100)\n",
    "f_y = np.vectorize(line)(f_x)\n",
    "\n",
    "for x_v,y_v in zip(x_diff,y_diff):\n",
    "    plt.plot((x_v,x_v),(line(x_v),y_v), 'k-')\n",
    "\n",
    "plt.plot(f_x,f_y)\n",
    "plt.show()"
   ]
  },
  {
   "cell_type": "code",
   "execution_count": null,
   "metadata": {
    "collapsed": true
   },
   "outputs": [],
   "source": []
  }
 ],
 "metadata": {
  "kernelspec": {
   "display_name": "Python 3",
   "language": "python",
   "name": "python3"
  },
  "language_info": {
   "codemirror_mode": {
    "name": "ipython",
    "version": 3
   },
   "file_extension": ".py",
   "mimetype": "text/x-python",
   "name": "python",
   "nbconvert_exporter": "python",
   "pygments_lexer": "ipython3",
   "version": "3.6.0"
  }
 },
 "nbformat": 4,
 "nbformat_minor": 2
}
