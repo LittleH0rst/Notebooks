{
 "cells": [
  {
   "cell_type": "markdown",
   "metadata": {},
   "source": [
    "LZW - Kompression und Expansion von Texten\n",
    "=====================\n",
    "\n",
    "Version 1.0, 02.06.2017, W. Conen\n",
    "\n",
    "In diesem Notebook stellen wir die Arbeitsweise des Lempel-Ziv-Welch-Algorithmus vor, kurz LZW. Dieser Algorithmus war lange Zeit das oft verwendete \"Arbeitspferd\" bei der Kompression von Daten. Wir orientieren uns in Teilen der Darstellung an Thomas H. Cormens Buch \"Algorithms Unlocked\" (MIT Press 2013), dessen Lektüre wir sehr empfehlen können.\n",
    "\n",
    "Anders, als das \"normale\" Verfahren zur Kompression mit Huffman-Codes, erfordert LZW nur einen Durchgang über die zu komprimierenden Daten (**one-pass Verfahren**).\n",
    "\n",
    "Die Grundidee ist recht simpel: der Kompressor gibt eine Folge von Indices aus, die in ein Array von Strings zeigen (eine Art Wörterbuch bzw. Dictionary), die (fast) alle im Text auch vorkommen. Kommen auch relative lange Strings in diesem Array vor, dann können wir auch eine vernünftige Kompression erwarten (weil es günstiger ist, eine vergleichsweise kurze Nummer auszugeben, als den recht langen String, den sie repräsentiert). \n",
    "\n",
    "Ein Problem, das entstehen könnte, ist allerdings das Dictionary selbst. Wenn ich dieses Mitübertragen muss zum Expandierer, dann könnte es sein, dass ich gar nichts spare, sondern im Ergebnis sogar mehr Platz brauche! \n",
    "\n",
    "Das coole am Algorithmus ist, dass er zwar ein Dictionary benötigt, dieses aber nicht abspeichend muss, sondern bei der Expansion neu und identisch zum Kompressor-Dictionary erzeugen kann.\n",
    "\n",
    "Schauen wir uns zunächst den Kompressionsalgorithmus an.\n",
    "\n",
    "Zunächst initialisieren wir unser Dictionary mit Einträgen für jedes Zeichen aus dem zugrunde liegenden Zeichensatz (das kann schon ganz schön gross werden, wenn man Unicode nimmt. Für die hier vorgestellte Variante des Algos nehmen wir das einfach mal so hin).\n",
    "\n",
    "Für unser Beispiel unten reduzieren wir unseren Zeichensatz auf 4 Zeichen, A,C,G,T, die Bausteine der DNS.\n",
    "\n",
    "Wir wollen nun die Sequenz TATAGATCTTAATATA komprimieren.\n",
    "\n",
    "Die Idee ist wie folgt: wir lesen nach und nach Zeichen ein. Wir wollen Strings erkennen, die bereits im Dictionary vermerkt sind. Diese sollen möglichst lang sein. Wir versuchen also, erst dann den Index von etwas Bekanntem auszugeben, wenn sich das nicht mehr verlängern lässt, ohne Unbekannt zu werden. Das merken wir, in dem wir das bisher Bekannte, nennen wir es s, um das aktuelle Zeichen, nennen wir es c, ergänzen und schauen, ob das Resultat s+c, also c direkt an s gehängt, bereits im Dictionary vorhanden ist. Wenn ja, machen wir so weiter. Wenn nein, dann geben wir die Indexnummer von s aus, setzen s auf c und merken uns im Dictionary s+c als neuen Eintrag. Das ist alles. Entsprechend arbeitet der Algorithmus unten. Ganz am Ende geben wir noch den Index des verbleibenden s aus (das ist ja sicher im Dictionary! Überlegen Sie, warum!)\n",
    "\n",
    "Diesen Ablauf wollen wir nun für unseren Beispiel-String als Tabelle nachvollziehen.\n",
    "\n",
    "<pre>\n",
    "Schritt |  c | s+c    | s       | Ausgabe | Dictionary:\n",
    "  Init  |    |        |         |         |  0:  A\n",
    "        |    |        |         |         |  1:  C\n",
    "        |    |        |         |         |  2:  G\n",
    "        |    |        | \"\"      |         |  3:  T\n",
    "    0   | T  | \"T\"    | \"T\"     |         |   \n",
    "    1   | A  | \"TA\"   | \"A\"     |  3      |  4:  TA\n",
    "    2   | T  | \"AT\"   | \"T\"     |  0      |  5:  AT\n",
    "    4   | A  | \"TA\"   | \"TA\"    |         |    \n",
    "    5   | G  | \"TAG\"  | \"G\"     |  4      |  6:  TAG    \n",
    "    6   | A  | \"GA\"   | \"A\"     |  2      |  7:  GA\n",
    "    7   | T  | \"AT\"   | \"AT\"    |         |  \n",
    "    8   | C  | \"ATC\"  | \"C\"     |  5      |  8:  ATC\n",
    "    9   | T  | \"CT\"   | \"T\"     |  1      |  9:  CT    \n",
    "    10  | T  | \"TT\"   | \"T\"     |  3      |  10: TT    \n",
    "    11  | A  | \"TA\"   | \"TA\"    |         |\n",
    "    12  | A  | \"TAA\"  | \"A\"     |  4      |  11: TAA\n",
    "    13  | T  | \"AT\"   | \"AT\"    |         |\n",
    "    14  | A  | \"ATA\"  | \"A\"     |  5      |  12: ATA\n",
    "    15  | T  | \"AT \"  | \"AT\"    |         |  \n",
    "    16  | A  | \"ATA\"  | \"ATA\"   |  12     |  \n",
    " </pre>   \n",
    " \n",
    " Der Algo unten ist in Python geschrieben und erzeugt die gerade per Hand gefundene Sequenz von Indices:"
   ]
  },
  {
   "cell_type": "code",
   "execution_count": 6,
   "metadata": {},
   "outputs": [
    {
     "data": {
      "text/plain": [
       "[3, 0, 4, 2, 5, 1, 3, 4, 5, 12]"
      ]
     },
     "execution_count": 6,
     "metadata": {},
     "output_type": "execute_result"
    }
   ],
   "source": [
    "def LZW(text):  # Text must be non-empty ;)\n",
    "    # Init the dictionary\n",
    "    dic = [ 'A', 'C', 'G', 'T']\n",
    "    com = []\n",
    "    \n",
    "    s = ''\n",
    "    for c in text:\n",
    "        if s+c in dic:  # ist s+c schon im Dictionary? \n",
    "            s += c      # Ja, dann warten wir, wie es weitergeht\n",
    "        else:           # Nein? Dann geben wir den Index von s aus, erweitern dic um s+c und setzen s auf c\n",
    "            com.append(dic.index(s)) # s must always be in dic! dic.index() gives the position of s in dic\n",
    "            dic.append(s+c)\n",
    "            s = c\n",
    "    com.append(dic.index(s))\n",
    "    return com\n",
    "\n",
    "LZW(\"TATAGATCTTAATATA\")"
   ]
  },
  {
   "cell_type": "markdown",
   "metadata": {},
   "source": [
    "Wir speichern das Dictionary NICHT ab! Das einzige Wissen, das der Kompressor und der Expandierer gemeinsam haben, ist das Wissen um den Zeichensatz.\n",
    "\n",
    "Versuchen wir mal, aus dem Ergebnis eben den String zu rekonstruieren, also das Komprimat zu expandieren:\n",
    "\n",
    "Wir initialisieren zunächst das Dictionary.\n",
    "\n",
    "0: A, 1: C, 2: G, 3: T\n",
    "\n",
    "Nun laufen wir über die Sequenz [3, 0, 4, 2, 5, 1, 3, 4, 5, 12] und versuchen, uns quasi \"gespiegelt\" so zu verhalten, wie der Komprimierer.\n",
    "\n",
    "Zuerst lesen wir eine 3. Die ist im Dictionary, klar. Wir geben also ein T aus. Wir wissen: der Komprimierer hat bei der Ausgabe der 3 ein Zeichen c in der Hand gehabt, das das T so verlängert, dass T+c nicht im Dictionary war. Diesen String T+c hat er dann ins Dictionary aufgenommmen. Leider wissen wir noch nicht, was c ist, aber das finden wir gleich heraus:\n",
    "\n",
    "Wir lesen nun eine 0. Das erste Zeichen der Ausgabe, die wir nun erzeugen können, in dem wir im Dictionary an Position 0 nachsehen, muss unser gesuchtes c sein. 0 steht hier für \"A\", wir können nun also T+A = TA als weiteren Eintrag ins Dictionary aufnehmen.\n",
    "\n",
    "4: TA\n",
    "\n",
    "Das, was wir eben getan haben, können wir leicht verallgemeinern, wenn wir \"T\" durch s ersetzen. Hierbei steht s wieder für  einen String, den wir im Dictionary finden können und den wir verlängern wollen.\n",
    "\n",
    "Es gibt eine denkbare Schwierigkeit: Gerade haben wir nach der 3 die 0 gefunden, also einen Eintrag, den wir schon kennen. Was wäre nun, wenn in der Sequenz oben an zweiter Stelle eine 4 gestanden hätte, also wir das, was wir im Komprimierer gerade als neu hinzugefügt hatten, sofort auch tatsächlich finden?\n",
    "\n",
    "Auf den ersten Blick scheint das ein Problem zu sein: woher soll der Expandierer nun wissen, welches Zeichen c der Komprimierer  eingelesen hatte, um es ans T zu hängen?\n",
    "\n",
    "Überlegen wir mal: wissen wir wirklich nichts über c? Unsere Annahme ist, dass die Indexsequenz zu Beginn 3,4 enthält. Wie könnte das praktisch aussehen? Mit welchen Buchstabenkombinationen könnte der Text begonnen haben?\n",
    "\n",
    "Mögliche 3er-Startsequenzen für unseren String, die mit T beginnen:\n",
    "\n",
    "<pre>\n",
    "TAA TAC TAG TAT \n",
    "TCA TCC TCG TCT\n",
    "TGA TGC TGG TGT\n",
    "TTA TTC TTG TTT\n",
    "</pre>\n",
    "\n",
    "Was würde der Komprimierer für diese Sequenzen als Ausgabe erzeugen:\n",
    "\n",
    "<pre>\n",
    "300 301 302 303\n",
    "310 311 312 313\n",
    "320 321 322 323\n",
    "330 331 332 34\n",
    "</pre>\n",
    "\n",
    "Es kann hier nur die Sequenz TTT zu diesem Effekt führen! Und in diesem Fall wissen wir, dass das Zeichen c identisch sein muss mit dem ersten Zeichen von s (in unserem Fall: T). Das gilt allgemein! Erklären wir das:\n",
    "\n",
    "Angenommen, unsere zuletzt ins Dictionary aufgenommene Sequence war $s_1 + c_1$, die Zeichenkette $s_1+c_1$ war uns also nicht bekannt. Ausgegeben haben wir zuletzt die Index-Nummer von $s_1$, $s_1$ ist uns also bekannt. \n",
    "\n",
    "Nun nehmen wir weiter an, das wir als nächstes den Index von $s_1 + c_1$ ausgeben wollen (so, wie wir oben die Situation beschrieben haben). Wie muss dann unsere Textsequenz aussehen?\n",
    "\n",
    "... $s_1$ [$c_1$] ...     : $s_1$ wird von $c_1$ gefolgt, das ist unbekannt für uns, $s_1+c_1$ wird aufgenommen\n",
    "\n",
    "... $s_1$ $s_1$ $c_1$ ...   : jetzt geben wir den \"neuen\" Index von $s_1+c_1$ aus \n",
    "\n",
    "Das kann nur passieren, wenn das ERSTE ZEICHEN von s_1+c_1 gleich c_1 ist. Um nun also s_1 + c_1 in das Dictionary aufnehmen zu können, müssen wir an unser (uns ja bekanntes) s_1 einfach das erste Zeichen von s_1 anhängen!\n",
    "\n",
    "Wenn wir also im Komprimierer auf die eben beschriebene Situation treffen, dann können wir an unser letztes s das erste Zeichen dieses s anhängen und erhalten so den Eintrag ins Dictionary, den wir brauchen, um weiter expandieren zu können.\n",
    "\n",
    "Das berücksichtigen wir jetzt im folgenden Algorithmus (anders, als bei Cormen, speichern wir ins previous und current Strings und nicht Indexpositionen im Dictionary ab, nur relevant, wenn Sie die Lösungen miteinander vergleichen. Unsere Lösung ist einen Hauch kompakter).\n"
   ]
  },
  {
   "cell_type": "code",
   "execution_count": 30,
   "metadata": {},
   "outputs": [
    {
     "data": {
      "text/plain": [
       "'TATAGATCTTAATATA'"
      ]
     },
     "execution_count": 30,
     "metadata": {},
     "output_type": "execute_result"
    }
   ],
   "source": [
    "def LZW_expand(seq):  # Text must be non-empty ;)\n",
    "    # Init the dictionary\n",
    "    dic = [ 'A', 'C', 'G', 'T']\n",
    "    \n",
    "    current = dic[seq[0]] # der erste String aus dem Dictionary, immer ein einzelner Buchstabe\n",
    "    \n",
    "    text = current # unser output momentan, nur der erste Buchstabe\n",
    "    \n",
    "    for i in seq[1:]:\n",
    "        previous = current # was haben wir in der letzten Runde ausgegeben?\n",
    "        if i == len(dic): # Unser Sonderfall...gerade aufgenommen und schon benutzt!\n",
    "            word = previous+previous[0] \n",
    "        else:  # Das alte Wort plus der erste Buchstabe des nächsten Worts muss in dictionary\n",
    "            word = previous+dic[i][0]\n",
    "        dic.append(word) # Hier schreiben wir das Wort ins Dictionary\n",
    "        current = dic[i] # Jetzt holen wir unsere monentane Ausgabe aus dem Dictionary       \n",
    "        text += current  # Und hängen Sie an den Ausgabetext             \n",
    "    return text\n",
    "\n",
    "LZW_expand([3, 0, 4, 2, 5, 1, 3, 4, 5, 12])"
   ]
  },
  {
   "cell_type": "code",
   "execution_count": 31,
   "metadata": {},
   "outputs": [
    {
     "name": "stdout",
     "output_type": "stream",
     "text": [
      "AGTGGGAATTAATTAGAGAGAGAGAGCCCCACACACT\n",
      "TTTTTTTTTTTTTTTTT\n"
     ]
    }
   ],
   "source": [
    "# Weitere Tests\n",
    "print(LZW_expand(LZW(\"AGTGGGAATTAATTAGAGAGAGAGAGCCCCACACACT\")))\n",
    "print(LZW_expand(LZW(\"TTTTTTTTTTTTTTTTT\")))"
   ]
  },
  {
   "cell_type": "code",
   "execution_count": 41,
   "metadata": {
    "scrolled": true
   },
   "outputs": [
    {
     "name": "stdout",
     "output_type": "stream",
     "text": [
      "Testing the compression and expansion of: \n",
      "\t TTT \n",
      "\t [3, 4] \n",
      "\t TTT\n",
      "  Correct!\n",
      "Testing the compression and expansion of: \n",
      "\t AGAGAGTTACCGCGCCCGCGCA \n",
      "\t [0, 2, 4, 4, 3, 3, 0, 1, 1, 2, 12, 11, 14, 13, 0] \n",
      "\t AGAGAGTTACCGCGCCCGCGCA\n",
      "  Correct!\n",
      "Testing the compression and expansion of: \n",
      "\t TTTTTTTTTTTTT \n",
      "\t [3, 4, 5, 6, 5] \n",
      "\t TTTTTTTTTTTTT\n",
      "  Correct!\n",
      "Testing the compression and expansion of: \n",
      "\t TATAGCCCGCGCGCGCGAA \n",
      "\t [3, 0, 4, 2, 1, 8, 7, 10, 1, 10, 0, 0] \n",
      "\t TATAGCCCGCGCGCGCGAA\n",
      "  Correct!\n"
     ]
    }
   ],
   "source": [
    "# Und richtige Tests....\n",
    "to_test = [\"TTT\",\"AGAGAGTTACCGCGCCCGCGCA\",\"TTTTTTTTTTTTT\",\"TATAGCCCGCGCGCGCGAA\"]\n",
    "for s in to_test:\n",
    "    compression = LZW(s)\n",
    "    expansion = LZW_expand(compression)\n",
    "    print(\"Testing the compression and expansion of: \\n\\t\",s,\"\\n\\t\",compression,\"\\n\\t\",expansion)\n",
    "    if s == expansion:\n",
    "        print(\"  Correct!\")\n",
    "    else:\n",
    "        print(\"  ERROR!!!\")\n",
    "\n",
    "# Note, the functions above are not robust in any sense, don't try to compress strings with characters outside of\n",
    "# the character set used in the functions! (But it is really easy to include the character set in the parameters!)"
   ]
  },
  {
   "cell_type": "code",
   "execution_count": null,
   "metadata": {},
   "outputs": [],
   "source": []
  }
 ],
 "metadata": {
  "kernelspec": {
   "display_name": "Python 3",
   "language": "python",
   "name": "python3"
  },
  "language_info": {
   "codemirror_mode": {
    "name": "ipython",
    "version": 3
   },
   "file_extension": ".py",
   "mimetype": "text/x-python",
   "name": "python",
   "nbconvert_exporter": "python",
   "pygments_lexer": "ipython3",
   "version": "3.6.0"
  }
 },
 "nbformat": 4,
 "nbformat_minor": 2
}
